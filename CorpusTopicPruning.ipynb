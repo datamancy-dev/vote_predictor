{
 "cells": [
  {
   "cell_type": "code",
   "execution_count": 10,
   "metadata": {
    "collapsed": true
   },
   "outputs": [],
   "source": [
    "import pandas as pd\n",
    "import pickle\n",
    "from sklearn.feature_extraction.text import CountVectorizer\n"
   ]
  },
  {
   "cell_type": "code",
   "execution_count": 11,
   "metadata": {
    "collapsed": true
   },
   "outputs": [],
   "source": [
    "import os"
   ]
  },
  {
   "cell_type": "code",
   "execution_count": 17,
   "metadata": {
    "collapsed": true
   },
   "outputs": [],
   "source": [
    "import re"
   ]
  },
  {
   "cell_type": "code",
   "execution_count": 2,
   "metadata": {
    "collapsed": true
   },
   "outputs": [],
   "source": [
    "def one_df():\n",
    "    pass"
   ]
  },
  {
   "cell_type": "code",
   "execution_count": 3,
   "metadata": {
    "collapsed": true
   },
   "outputs": [],
   "source": [
    "with open(\"./data/114-2015/sbill-114-2015.pkl\", \"rb\") as f:\n",
    "    b2015 = pickle.load(f)"
   ]
  },
  {
   "cell_type": "code",
   "execution_count": 4,
   "metadata": {},
   "outputs": [
    {
     "name": "stdout",
     "output_type": "stream",
     "text": [
      "<class 'pandas.core.frame.DataFrame'>\n",
      "Index: 28 entries, hr1191 to sjres8\n",
      "Data columns (total 5 columns):\n",
      "json_uri             28 non-null object\n",
      "txt_uri              28 non-null object\n",
      "subjects_top_term    28 non-null object\n",
      "subjects             28 non-null object\n",
      "text                 28 non-null object\n",
      "dtypes: object(5)\n",
      "memory usage: 1.3+ KB\n"
     ]
    }
   ],
   "source": [
    "b2015.info()"
   ]
  },
  {
   "cell_type": "code",
   "execution_count": 5,
   "metadata": {
    "collapsed": true
   },
   "outputs": [],
   "source": [
    "with open(\"./data/114-2016/sbill-114-2016.pkl\", \"rb\") as f:\n",
    "    b2016 = pickle.load(f)"
   ]
  },
  {
   "cell_type": "code",
   "execution_count": 6,
   "metadata": {},
   "outputs": [
    {
     "name": "stdout",
     "output_type": "stream",
     "text": [
      "<class 'pandas.core.frame.DataFrame'>\n",
      "Index: 24 entries, hjres88 to sres377\n",
      "Data columns (total 5 columns):\n",
      "json_uri             24 non-null object\n",
      "txt_uri              24 non-null object\n",
      "subjects_top_term    24 non-null object\n",
      "subjects             24 non-null object\n",
      "text                 24 non-null object\n",
      "dtypes: object(5)\n",
      "memory usage: 1.1+ KB\n"
     ]
    }
   ],
   "source": [
    "b2016.info()"
   ]
  },
  {
   "cell_type": "code",
   "execution_count": 7,
   "metadata": {},
   "outputs": [],
   "source": [
    "b2015.index = [str(2015)+\"s-\"+value for value in b2015.index]"
   ]
  },
  {
   "cell_type": "markdown",
   "metadata": {},
   "source": [
    "# FUNCTION"
   ]
  },
  {
   "cell_type": "code",
   "execution_count": null,
   "metadata": {
    "collapsed": true
   },
   "outputs": [],
   "source": [
    "#corpus.py\n",
    "def pre_merge(df, year, chamber):\n",
    "    df.index = [year+chamber+ \"-\" + value for value in df.index]\n",
    "    return df"
   ]
  },
  {
   "cell_type": "code",
   "execution_count": 41,
   "metadata": {},
   "outputs": [],
   "source": [
    "dfl = [b2015, b2016]"
   ]
  },
  {
   "cell_type": "code",
   "execution_count": 25,
   "metadata": {
    "collapsed": true
   },
   "outputs": [],
   "source": [
    "query = \"sbill\""
   ]
  },
  {
   "cell_type": "code",
   "execution_count": 56,
   "metadata": {},
   "outputs": [],
   "source": [
    "import resource_paths as rp"
   ]
  },
  {
   "cell_type": "code",
   "execution_count": 60,
   "metadata": {},
   "outputs": [
    {
     "data": {
      "text/plain": [
       "<module 'resource_paths' from 'resource_paths.py'>"
      ]
     },
     "execution_count": 60,
     "metadata": {},
     "output_type": "execute_result"
    }
   ],
   "source": [
    "reload(rp)"
   ]
  },
  {
   "cell_type": "markdown",
   "metadata": {},
   "source": [
    "# FUNCTION"
   ]
  },
  {
   "cell_type": "code",
   "execution_count": 61,
   "metadata": {},
   "outputs": [],
   "source": [
    "def merge_bill_dfs(fps, query):\n",
    "    year_re = re.compile(r\"[0-9]{4}\")\n",
    "    all_dfs = []\n",
    "    for fp in fps:\n",
    "        year = year_re.search(fp).group(0)\n",
    "        with open(fp, \"rb\") as data_file:\n",
    "            df = pickle.load(data_file)\n",
    "        df = pre_merge(df, year, query[0])\n",
    "        all_dfs.append(df)\n",
    "        \n",
    "    return pd.concat(all_dfs)\n",
    "        \n",
    "        "
   ]
  },
  {
   "cell_type": "code",
   "execution_count": 62,
   "metadata": {},
   "outputs": [],
   "source": [
    "sbills_df = merge_bill_dfs(rp.get_all_dfs(\"sbill\"), \"sbill\")"
   ]
  },
  {
   "cell_type": "code",
   "execution_count": 67,
   "metadata": {},
   "outputs": [],
   "source": [
    "dbills_df = merge_bill_dfs(rp.get_all_dfs(\"hbill\"), \"hbill\")"
   ]
  },
  {
   "cell_type": "code",
   "execution_count": 131,
   "metadata": {},
   "outputs": [],
   "source": [
    "allbilldf = pd.concat([sbills_df, dbills_df])"
   ]
  },
  {
   "cell_type": "code",
   "execution_count": 69,
   "metadata": {
    "collapsed": true
   },
   "outputs": [],
   "source": [
    "with open(\"allsbill.pkl\", \"wb\") as f:\n",
    "    pickle.dump(sbills_df, f)"
   ]
  },
  {
   "cell_type": "code",
   "execution_count": 70,
   "metadata": {
    "collapsed": true
   },
   "outputs": [],
   "source": [
    "with open(\"allhbill.pkl\", \"wb\") as f:\n",
    "    pickle.dump(dbills_df, f)"
   ]
  },
  {
   "cell_type": "code",
   "execution_count": 72,
   "metadata": {},
   "outputs": [
    {
     "name": "stdout",
     "output_type": "stream",
     "text": [
      "<class 'pandas.core.frame.DataFrame'>\n",
      "Index: 1798 entries, 2006s-hjres47 to 2012h-sconres56\n",
      "Data columns (total 5 columns):\n",
      "json_uri             1798 non-null object\n",
      "txt_uri              1798 non-null object\n",
      "subjects_top_term    1787 non-null object\n",
      "subjects             1798 non-null object\n",
      "text                 1798 non-null object\n",
      "dtypes: object(5)\n",
      "memory usage: 84.3+ KB\n"
     ]
    }
   ],
   "source": [
    "allbilldf.info()"
   ]
  },
  {
   "cell_type": "code",
   "execution_count": 73,
   "metadata": {
    "collapsed": true
   },
   "outputs": [],
   "source": [
    "with open(\"allbills.pkl\", \"wb\") as f:\n",
    "    pickle.dump(allbilldf, f)"
   ]
  },
  {
   "cell_type": "code",
   "execution_count": 125,
   "metadata": {},
   "outputs": [],
   "source": [
    "main_topics = allbilldf.subjects_top_term.unique().tolist()\n",
    "#    print(uq + \": \"+str(len(allbilldf[allbilldf[\"subjects_top_term\"] == uq])))"
   ]
  },
  {
   "cell_type": "code",
   "execution_count": 79,
   "metadata": {
    "collapsed": true
   },
   "outputs": [],
   "source": [
    "all_topics = []\n",
    "for val in allbilldf.subjects:\n",
    "    for subj in val:\n",
    "        all_topics.append(subj)"
   ]
  },
  {
   "cell_type": "code",
   "execution_count": 90,
   "metadata": {},
   "outputs": [],
   "source": [
    "topics = topics.unique()"
   ]
  },
  {
   "cell_type": "code",
   "execution_count": 83,
   "metadata": {},
   "outputs": [
    {
     "data": {
      "text/plain": [
       "numpy.ndarray"
      ]
     },
     "execution_count": 83,
     "metadata": {},
     "output_type": "execute_result"
    }
   ],
   "source": [
    "type(topics.unique())"
   ]
  },
  {
   "cell_type": "code",
   "execution_count": 92,
   "metadata": {},
   "outputs": [],
   "source": [
    "from collections import Counter"
   ]
  },
  {
   "cell_type": "code",
   "execution_count": 89,
   "metadata": {},
   "outputs": [
    {
     "data": {
      "text/plain": [
       "3400"
      ]
     },
     "execution_count": 89,
     "metadata": {},
     "output_type": "execute_result"
    }
   ],
   "source": [
    "len(topics.unique())"
   ]
  },
  {
   "cell_type": "code",
   "execution_count": 93,
   "metadata": {
    "collapsed": true
   },
   "outputs": [],
   "source": [
    "topicscounter = Counter(all_topics)"
   ]
  },
  {
   "cell_type": "code",
   "execution_count": 97,
   "metadata": {},
   "outputs": [
    {
     "data": {
      "text/plain": [
       "[(u'Congress', 921),\n",
       " (u'Legislative rules and procedure', 562),\n",
       " (u'House of Representatives', 553),\n",
       " (u'Congressional oversight', 505),\n",
       " (u'Administrative law and regulatory procedures', 361),\n",
       " (u'Economics and public finance', 354),\n",
       " (u'Appropriations', 306),\n",
       " (u'Government operations and politics', 305),\n",
       " (u'Executive agency funding and structure', 298),\n",
       " (u'Government trust funds', 291),\n",
       " (u'Government information and archives', 287),\n",
       " (u'Government studies and investigations', 265),\n",
       " (u'Higher education', 248),\n",
       " (u'Terrorism', 245),\n",
       " (u'Armed forces and national security', 241),\n",
       " (u'Small business', 240),\n",
       " (u'Law', 218),\n",
       " (u'Elementary and secondary education', 217),\n",
       " (u'Government employee pay, benefits, personnel management', 212),\n",
       " (u'Health', 205),\n",
       " (u'Civil actions and liability', 201),\n",
       " (u'Research and development', 200),\n",
       " (u'Finance and financial sector', 200),\n",
       " (u'Public contracts and procurement', 195),\n",
       " (u'Labor and employment', 194),\n",
       " (u'Congressional reporting requirements', 185),\n",
       " (u'Licensing and registrations', 184),\n",
       " (u'International affairs', 182),\n",
       " (u'Science, technology, communications', 181),\n",
       " (u'Department of Defense', 178),\n",
       " (u'Commerce', 177),\n",
       " (u'Crime and law enforcement', 177),\n",
       " (u'Transportation and public works', 175),\n",
       " (u'Administrative remedies', 175),\n",
       " (u'Advisory bodies', 172),\n",
       " (u'Hazardous wastes and toxic substances', 172),\n",
       " (u'Latin America', 171),\n",
       " (u'Research administration and funding', 170),\n",
       " (u'Environmental protection', 164),\n",
       " (u'Alaska', 162),\n",
       " (u'Oil and gas', 162),\n",
       " (u'Marine and coastal resources, fisheries', 157),\n",
       " (u'House rules and procedure', 156),\n",
       " (u'Taxation', 154),\n",
       " (u'Rural conditions and development', 150),\n",
       " (u'Government lending and loan guarantees', 150),\n",
       " (u'Public lands and natural resources', 150),\n",
       " (u'User charges and fees', 150),\n",
       " (u'Energy', 148),\n",
       " (u'Education', 145),\n",
       " (u'District of Columbia', 144),\n",
       " (u'Foreign trade and international finance', 144),\n",
       " (u'Caribbean area', 140),\n",
       " (u'Emergency management', 140),\n",
       " (u'Land transfers', 137),\n",
       " (u'Health care costs and insurance', 137),\n",
       " (u'California', 136),\n",
       " (u'Families', 134),\n",
       " (u'Department of Health and Human Services', 130),\n",
       " (u'Tax administration and collection, taxpayers', 130),\n",
       " (u'Civil rights and liberties, minority issues', 128),\n",
       " (u'Performance measurement', 128),\n",
       " (u'Energy efficiency and conservation', 126),\n",
       " (u'Medical research', 126),\n",
       " (u'Education programs funding', 126),\n",
       " (u'Water quality', 125),\n",
       " (u'Defense spending', 124),\n",
       " (u'Aviation and airports', 124),\n",
       " (u'Department of Homeland Security', 123),\n",
       " (u'Computers and information technology', 123),\n",
       " (u'Iraq', 122),\n",
       " (u'Child health', 121),\n",
       " (u\"Veterans' medical care\", 121),\n",
       " (u'Disaster relief and insurance', 119),\n",
       " (u'Alternative and renewable resources', 119),\n",
       " (u'Nuclear weapons', 118),\n",
       " (u'Military personnel and dependents', 117),\n",
       " (u'Student aid and college costs', 116),\n",
       " (u'Department of the Treasury', 116),\n",
       " (u'Health programs administration and funding', 115),\n",
       " (u'Mississippi', 114),\n",
       " (u'Federal officials', 114),\n",
       " (u'Building construction', 112),\n",
       " (u'Administrative procedure', 112),\n",
       " (u'Social welfare', 112),\n",
       " (u'Housing and community development', 112),\n",
       " (u'Middle East', 112),\n",
       " (u'Minorities', 111),\n",
       " (u'Fraud offenses and financial crimes', 111),\n",
       " (u'Texas', 109),\n",
       " (u'Health care coverage and access', 109),\n",
       " (u'Environmental assessment, monitoring, research', 108),\n",
       " (u'Health facilities and institutions', 108),\n",
       " (u'Europe', 108),\n",
       " (u'State and local government operations', 107),\n",
       " (u'Asia', 107),\n",
       " (u\"Veterans' education, employment, rehabilitation\", 107),\n",
       " (u'Military operations and strategy', 107),\n",
       " (u'Foreign aid and international relief', 107),\n",
       " (u'Afghanistan', 106),\n",
       " (u'Department of the Interior', 106),\n",
       " (u'Health personnel', 106),\n",
       " (u'Agriculture and food', 105),\n",
       " (u'Government paperwork', 105),\n",
       " (u'Human rights', 104),\n",
       " (u'Detention of persons', 103),\n",
       " (u'Employee benefits and pensions', 102),\n",
       " (u'Medicare', 102),\n",
       " (u'Electric power generation and transmission', 102),\n",
       " (u'Department of Energy', 101),\n",
       " (u'Intellectual property', 101),\n",
       " (u'Climate change and greenhouse gases', 100),\n",
       " (u'Department of Transportation', 100),\n",
       " (u'Virginia', 100),\n",
       " (u'Economic development', 100),\n",
       " (u'Religion', 100),\n",
       " (u'Transportation programs funding', 99),\n",
       " (u'Government buildings, facilities, and property', 99),\n",
       " (u'Business records', 99),\n",
       " (u'Coal', 99),\n",
       " (u'Mexico', 98),\n",
       " (u'Housing finance and home ownership', 97),\n",
       " (u'Criminal investigation, prosecution, interrogation', 97),\n",
       " (u'Military facilities and property', 97),\n",
       " (u'Drug trafficking and controlled substances', 97),\n",
       " (u'Arms control and nonproliferation', 96),\n",
       " (u'Law enforcement officers', 96),\n",
       " (u'Transportation safety and security', 95),\n",
       " (u'Intelligence activities, surveillance, classified information', 95),\n",
       " (u'Environmental Protection Agency (EPA)', 93),\n",
       " (u'Governmental investigations', 93),\n",
       " (u'Drug, alcohol, tobacco use', 93),\n",
       " (u'Cuba', 92),\n",
       " (u'Securities', 92),\n",
       " (u'Housing and community development funding', 92),\n",
       " (u'Military medicine', 92),\n",
       " (u'Disability and paralysis', 92),\n",
       " (u'Indian social and development programs', 91),\n",
       " (u'Department of Justice', 91),\n",
       " (u'Wildlife conservation and habitat protection', 90),\n",
       " (u'Manufacturing', 90),\n",
       " (u'Land use and conservation', 89),\n",
       " (u'Roads and highways', 89),\n",
       " (u'Puerto Rico', 89),\n",
       " (u'Water use and supply', 88),\n",
       " (u'Department of Agriculture', 88),\n",
       " (u'Judicial review and appeals', 88),\n",
       " (u'Right of privacy', 87),\n",
       " (u'Department of Commerce', 87),\n",
       " (u'Military procurement, research, weapons development', 87),\n",
       " (u'Trade restrictions', 87),\n",
       " (u'Government publicity', 86),\n",
       " (u'Air quality', 86),\n",
       " (u'Department of Labor', 85),\n",
       " (u'Louisiana', 85),\n",
       " (u'Infrastructure', 85),\n",
       " (u'Canada', 85),\n",
       " (u'Water resources development', 85),\n",
       " (u'Alabama', 84),\n",
       " (u'Food assistance and relief', 84),\n",
       " (u'Internet and video services', 84),\n",
       " (u'Nevada', 84),\n",
       " (u'Unemployment', 84),\n",
       " (u'Medicaid', 84),\n",
       " (u'National Guard and reserves', 83),\n",
       " (u'International organizations and cooperation', 83),\n",
       " (u\"Women's health\", 83),\n",
       " (u'Immigration', 82),\n",
       " (u'Motor vehicles', 82),\n",
       " (u'Solid waste and recycling', 81),\n",
       " (u'Department of Veterans Affairs', 81),\n",
       " (u'Members of Congress', 81),\n",
       " (u'Employment discrimination and employee rights', 81),\n",
       " (u'Budget deficits and national debt', 81),\n",
       " (u'Federal employees', 81),\n",
       " (u'Mental health', 80),\n",
       " (u'Sales and excise taxes', 80),\n",
       " (u'Government liability', 79),\n",
       " (u'Employment and training programs', 79),\n",
       " (u'Health promotion and preventive care', 78),\n",
       " (u'Hawaii', 77),\n",
       " (u'Environmental regulatory procedures', 77),\n",
       " (u'Forests, forestry, trees', 77),\n",
       " (u'Accounting and auditing', 77),\n",
       " (u'Intergovernmental relations', 77),\n",
       " (u'Poverty and welfare assistance', 76),\n",
       " (u'Business investment and capital', 76),\n",
       " (u'Emergency medical services and trauma care', 75),\n",
       " (u'Fires', 75),\n",
       " (u'Health information and medical records', 75),\n",
       " (u'Social work, volunteer service, charitable organizations', 75),\n",
       " (u'Minority and disadvantaged businesses', 75),\n",
       " (u'Wetlands', 75),\n",
       " (u'Railroads', 74),\n",
       " (u'Marine and inland water transportation', 74),\n",
       " (u'Native Americans', 74),\n",
       " (u'Animals', 73),\n",
       " (u'Iran', 73),\n",
       " (u'Guam', 73),\n",
       " (u'State and local finance', 72)]"
      ]
     },
     "execution_count": 97,
     "metadata": {},
     "output_type": "execute_result"
    }
   ],
   "source": [
    "topicscounter.most_common(200)"
   ]
  },
  {
   "cell_type": "code",
   "execution_count": 98,
   "metadata": {
    "collapsed": true
   },
   "outputs": [],
   "source": [
    "allkeyset = set(topicscounter.keys())"
   ]
  },
  {
   "cell_type": "code",
   "execution_count": 99,
   "metadata": {
    "collapsed": true
   },
   "outputs": [],
   "source": [
    "mainkeyset = set(allbilldf.subjects_top_term.unique())"
   ]
  },
  {
   "cell_type": "code",
   "execution_count": 100,
   "metadata": {
    "collapsed": true
   },
   "outputs": [],
   "source": [
    "nottopkeyset = allkeyset-mainkeyset"
   ]
  },
  {
   "cell_type": "code",
   "execution_count": 104,
   "metadata": {},
   "outputs": [],
   "source": [
    "trimmed_counter = {}\n",
    "for key in nottopkeyset:\n",
    "    trimmed_counter[key] = topicscounter[key] "
   ]
  },
  {
   "cell_type": "code",
   "execution_count": 129,
   "metadata": {},
   "outputs": [
    {
     "data": {
      "text/plain": [
       "[(u'Legislative rules and procedure', 562),\n",
       " (u'House of Representatives', 553),\n",
       " (u'Congressional oversight', 505),\n",
       " (u'Administrative law and regulatory procedures', 361),\n",
       " (u'Appropriations', 306),\n",
       " (u'Executive agency funding and structure', 298),\n",
       " (u'Government trust funds', 291),\n",
       " (u'Government information and archives', 287),\n",
       " (u'Government studies and investigations', 265),\n",
       " (u'Higher education', 248),\n",
       " (u'Terrorism', 245),\n",
       " (u'Small business', 240),\n",
       " (u'Elementary and secondary education', 217),\n",
       " (u'Government employee pay, benefits, personnel management', 212),\n",
       " (u'Civil actions and liability', 201),\n",
       " (u'Research and development', 200),\n",
       " (u'Public contracts and procurement', 195),\n",
       " (u'Congressional reporting requirements', 185),\n",
       " (u'Licensing and registrations', 184),\n",
       " (u'Department of Defense', 178),\n",
       " (u'Administrative remedies', 175),\n",
       " (u'Advisory bodies', 172),\n",
       " (u'Hazardous wastes and toxic substances', 172),\n",
       " (u'Latin America', 171),\n",
       " (u'Research administration and funding', 170),\n",
       " (u'Alaska', 162),\n",
       " (u'Oil and gas', 162),\n",
       " (u'Marine and coastal resources, fisheries', 157),\n",
       " (u'House rules and procedure', 156),\n",
       " (u'Rural conditions and development', 150),\n",
       " (u'Government lending and loan guarantees', 150),\n",
       " (u'User charges and fees', 150),\n",
       " (u'District of Columbia', 144),\n",
       " (u'Caribbean area', 140),\n",
       " (u'Land transfers', 137),\n",
       " (u'Health care costs and insurance', 137),\n",
       " (u'California', 136),\n",
       " (u'Department of Health and Human Services', 130),\n",
       " (u'Tax administration and collection, taxpayers', 130),\n",
       " (u'Performance measurement', 128),\n",
       " (u'Energy efficiency and conservation', 126)]"
      ]
     },
     "execution_count": 129,
     "metadata": {},
     "output_type": "execute_result"
    }
   ],
   "source": [
    "trimmed_counter.most_common(41)"
   ]
  },
  {
   "cell_type": "code",
   "execution_count": 130,
   "metadata": {},
   "outputs": [],
   "source": [
    "l = [name[0] for name in trimmed_counter.most_common(41)]"
   ]
  },
  {
   "cell_type": "code",
   "execution_count": 132,
   "metadata": {
    "collapsed": true
   },
   "outputs": [],
   "source": [
    "allbilldf = allbilldf[sub_in_bill(allbilldf.subjects, l)]"
   ]
  },
  {
   "cell_type": "code",
   "execution_count": 115,
   "metadata": {},
   "outputs": [
    {
     "data": {
      "text/plain": [
       "False"
      ]
     },
     "execution_count": 115,
     "metadata": {},
     "output_type": "execute_result"
    }
   ],
   "source": [
    "a = set([1, 2 , 3])\n",
    "b = set([4, 2, 6])\n",
    "b in a"
   ]
  },
  {
   "cell_type": "code",
   "execution_count": 116,
   "metadata": {
    "collapsed": true
   },
   "outputs": [],
   "source": [
    "def sub_in_bill(ser, secondary):\n",
    "    bool_list = []\n",
    "    for val in ser:\n",
    "        in_list = False\n",
    "        for topic in val:\n",
    "            if topic in secondary:\n",
    "                in_list=True\n",
    "        bool_list.append(in_list)\n",
    "    \n",
    "    return bool_list\n",
    "            "
   ]
  },
  {
   "cell_type": "code",
   "execution_count": 117,
   "metadata": {},
   "outputs": [
    {
     "name": "stdout",
     "output_type": "stream",
     "text": [
      "<class 'pandas.core.frame.DataFrame'>\n",
      "Index: 1798 entries, 2006s-hjres47 to 2012h-sconres56\n",
      "Data columns (total 5 columns):\n",
      "json_uri             1798 non-null object\n",
      "txt_uri              1798 non-null object\n",
      "subjects_top_term    1787 non-null object\n",
      "subjects             1798 non-null object\n",
      "text                 1798 non-null object\n",
      "dtypes: object(5)\n",
      "memory usage: 84.3+ KB\n"
     ]
    }
   ],
   "source": [
    "allbilldf.info()"
   ]
  },
  {
   "cell_type": "code",
   "execution_count": 133,
   "metadata": {},
   "outputs": [
    {
     "name": "stdout",
     "output_type": "stream",
     "text": [
      "<class 'pandas.core.frame.DataFrame'>\n",
      "Index: 1663 entries, 2006s-hr3199 to 2012h-sconres56\n",
      "Data columns (total 5 columns):\n",
      "json_uri             1663 non-null object\n",
      "txt_uri              1663 non-null object\n",
      "subjects_top_term    1663 non-null object\n",
      "subjects             1663 non-null object\n",
      "text                 1663 non-null object\n",
      "dtypes: object(5)\n",
      "memory usage: 78.0+ KB\n"
     ]
    }
   ],
   "source": [
    "allbilldf.info()"
   ]
  },
  {
   "cell_type": "code",
   "execution_count": 134,
   "metadata": {
    "collapsed": true
   },
   "outputs": [],
   "source": [
    "all_topics = main_topics + l "
   ]
  },
  {
   "cell_type": "code",
   "execution_count": 135,
   "metadata": {},
   "outputs": [
    {
     "data": {
      "text/plain": [
       "73"
      ]
     },
     "execution_count": 135,
     "metadata": {},
     "output_type": "execute_result"
    }
   ],
   "source": [
    "len(all_topics)"
   ]
  },
  {
   "cell_type": "code",
   "execution_count": 136,
   "metadata": {
    "collapsed": true
   },
   "outputs": [],
   "source": [
    "with open(\"topictrimmedbills.pkl\", \"wb\") as f:\n",
    "    pickle.dump(allbilldf, f)"
   ]
  },
  {
   "cell_type": "code",
   "execution_count": 139,
   "metadata": {},
   "outputs": [],
   "source": [
    "with open(\"list-of-topics.pkl\", \"wb\") as f:\n",
    "    pickle.dump(all_topics, f)"
   ]
  },
  {
   "cell_type": "code",
   "execution_count": null,
   "metadata": {
    "collapsed": true
   },
   "outputs": [],
   "source": []
  },
  {
   "cell_type": "code",
   "execution_count": null,
   "metadata": {
    "collapsed": true
   },
   "outputs": [],
   "source": []
  }
 ],
 "metadata": {
  "kernelspec": {
   "display_name": "Python 2",
   "language": "python",
   "name": "python2"
  },
  "language_info": {
   "codemirror_mode": {
    "name": "ipython",
    "version": 2
   },
   "file_extension": ".py",
   "mimetype": "text/x-python",
   "name": "python",
   "nbconvert_exporter": "python",
   "pygments_lexer": "ipython2",
   "version": "2.7.13"
  }
 },
 "nbformat": 4,
 "nbformat_minor": 2
}
