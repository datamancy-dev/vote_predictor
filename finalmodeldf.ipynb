{
 "cells": [
  {
   "cell_type": "code",
   "execution_count": 1,
   "metadata": {},
   "outputs": [
    {
     "data": {
      "text/plain": [
       "'STATS\\nSenators: 178'"
      ]
     },
     "execution_count": 1,
     "metadata": {},
     "output_type": "execute_result"
    }
   ],
   "source": [
    "#get all lawmakers\n",
    "#for each lawmaker\n",
    "#    for each dataframe\n",
    "#        get all the rows where they appear\n",
    "#transpose that dataframe\n",
    "#stack all of the columns into one\n",
    "#match bills to bills in that data frame\n",
    "\n",
    "\n",
    "\"\"\"STATS\n",
    "Senators: 178\"\"\""
   ]
  },
  {
   "cell_type": "code",
   "execution_count": 2,
   "metadata": {
    "collapsed": true
   },
   "outputs": [],
   "source": [
    "import pickle\n",
    "import pandas as pd"
   ]
  },
  {
   "cell_type": "code",
   "execution_count": 3,
   "metadata": {
    "collapsed": true
   },
   "outputs": [],
   "source": [
    "#Get all lawmakers\n",
    "with open(\"./svotes_per_congress.pkl\", \"rb\") as f:\n",
    "    svotes = pickle.load(f)"
   ]
  },
  {
   "cell_type": "code",
   "execution_count": 4,
   "metadata": {
    "collapsed": true
   },
   "outputs": [],
   "source": [
    "def unique_lawmakers(votes):\n",
    "    unique_l = set()\n",
    "    for df in votes:\n",
    "        for lawmaker in df.iloc[:,0]:\n",
    "            unique_l.add(lawmaker)\n",
    "    return unique_l"
   ]
  },
  {
   "cell_type": "code",
   "execution_count": 5,
   "metadata": {
    "collapsed": true
   },
   "outputs": [],
   "source": [
    "unique_s = unique_lawmakers(svotes)"
   ]
  },
  {
   "cell_type": "code",
   "execution_count": 6,
   "metadata": {
    "collapsed": true
   },
   "outputs": [],
   "source": [
    "unique_s = {lawmaker for lawmaker in unique_s if lawmaker==lawmaker}"
   ]
  },
  {
   "cell_type": "code",
   "execution_count": 7,
   "metadata": {},
   "outputs": [
    {
     "data": {
      "text/plain": [
       "178"
      ]
     },
     "execution_count": 7,
     "metadata": {},
     "output_type": "execute_result"
    }
   ],
   "source": [
    "len(unique_s)"
   ]
  },
  {
   "cell_type": "code",
   "execution_count": 8,
   "metadata": {
    "collapsed": true
   },
   "outputs": [],
   "source": [
    "def get_votes_per_lawmaker(unique):\n",
    "    lawmakernbills = []\n",
    "    for lawmaker in unique:\n",
    "        lmlst = []\n",
    "        for df in svotes:\n",
    "            row = df[df.iloc[:,0] == lawmaker]\n",
    "            if row.empty:\n",
    "                continue\n",
    "            name = row.iloc[0,0]\n",
    "            row = row.iloc[0,4:]\n",
    "            row = row.transpose()\n",
    "            row.name = name\n",
    "            lmlst.append(row)\n",
    "        lawmakernbills.append(lmlst)\n",
    "\n",
    "    return lawmakernbills\n",
    "        "
   ]
  },
  {
   "cell_type": "code",
   "execution_count": 9,
   "metadata": {
    "collapsed": true
   },
   "outputs": [],
   "source": [
    "slawmakernbills = get_votes_per_lawmaker(unique_s)"
   ]
  },
  {
   "cell_type": "code",
   "execution_count": 12,
   "metadata": {},
   "outputs": [
    {
     "data": {
      "text/plain": [
       "178"
      ]
     },
     "execution_count": 12,
     "metadata": {},
     "output_type": "execute_result"
    }
   ],
   "source": [
    "len(slawmakernbills)"
   ]
  },
  {
   "cell_type": "code",
   "execution_count": 23,
   "metadata": {
    "collapsed": true
   },
   "outputs": [],
   "source": [
    "def columnize(lawmakernbills):\n",
    "    lawmakers_dfs =[]\n",
    "    for lawmaker in lawmakernbills:\n",
    "        giant_col = pd.DataFrame()\n",
    "        name =\"\"\n",
    "        for congress in lawmaker:\n",
    "            name = congress.name\n",
    "            giant_col = giant_col.append(congress)\n",
    "            \n",
    "        giant_col.name = name\n",
    "        lawmakers_dfs.append(giant_col)\n",
    "        \n",
    "    return lawmakers_dfs\n",
    "            \n",
    "            \n",
    "        "
   ]
  },
  {
   "cell_type": "code",
   "execution_count": 24,
   "metadata": {},
   "outputs": [],
   "source": [
    "scolumns = columnize(slawmakernbills)"
   ]
  },
  {
   "cell_type": "code",
   "execution_count": 25,
   "metadata": {},
   "outputs": [
    {
     "data": {
      "text/html": [
       "<div>\n",
       "<style>\n",
       "    .dataframe thead tr:only-child th {\n",
       "        text-align: right;\n",
       "    }\n",
       "\n",
       "    .dataframe thead th {\n",
       "        text-align: left;\n",
       "    }\n",
       "\n",
       "    .dataframe tbody tr th {\n",
       "        vertical-align: top;\n",
       "    }\n",
       "</style>\n",
       "<table border=\"1\" class=\"dataframe\">\n",
       "  <thead>\n",
       "    <tr style=\"text-align: right;\">\n",
       "      <th></th>\n",
       "      <th>v2005-hconres95</th>\n",
       "      <th>v2005-hjres52</th>\n",
       "      <th>v2005-hr1268</th>\n",
       "      <th>v2005-hr1268.1</th>\n",
       "      <th>v2005-hr2360</th>\n",
       "      <th>v2005-hr2361</th>\n",
       "      <th>v2005-hr2361.1</th>\n",
       "      <th>v2005-hr2419</th>\n",
       "      <th>v2005-hr2419.1</th>\n",
       "      <th>v2005-hr2528</th>\n",
       "      <th>...</th>\n",
       "      <th>v2008-hr6304</th>\n",
       "      <th>v2008-hr7081</th>\n",
       "      <th>v2008-s1200</th>\n",
       "      <th>v2008-s1315</th>\n",
       "      <th>v2008-s2248</th>\n",
       "      <th>v2008-s2739</th>\n",
       "      <th>v2008-s3001</th>\n",
       "      <th>v2008-sconres70</th>\n",
       "      <th>v2008-sconres70.1</th>\n",
       "      <th>v2008-sres501</th>\n",
       "    </tr>\n",
       "  </thead>\n",
       "  <tbody>\n",
       "    <tr>\n",
       "      <th>S224</th>\n",
       "      <td>1.0</td>\n",
       "      <td>1.0</td>\n",
       "      <td>1.0</td>\n",
       "      <td>1.0</td>\n",
       "      <td>1.0</td>\n",
       "      <td>0.0</td>\n",
       "      <td>1.0</td>\n",
       "      <td>1.0</td>\n",
       "      <td>1.0</td>\n",
       "      <td>1.0</td>\n",
       "      <td>...</td>\n",
       "      <td>NaN</td>\n",
       "      <td>NaN</td>\n",
       "      <td>NaN</td>\n",
       "      <td>NaN</td>\n",
       "      <td>NaN</td>\n",
       "      <td>NaN</td>\n",
       "      <td>NaN</td>\n",
       "      <td>NaN</td>\n",
       "      <td>NaN</td>\n",
       "      <td>NaN</td>\n",
       "    </tr>\n",
       "    <tr>\n",
       "      <th>S224</th>\n",
       "      <td>NaN</td>\n",
       "      <td>NaN</td>\n",
       "      <td>NaN</td>\n",
       "      <td>NaN</td>\n",
       "      <td>NaN</td>\n",
       "      <td>NaN</td>\n",
       "      <td>NaN</td>\n",
       "      <td>NaN</td>\n",
       "      <td>NaN</td>\n",
       "      <td>NaN</td>\n",
       "      <td>...</td>\n",
       "      <td>NaN</td>\n",
       "      <td>NaN</td>\n",
       "      <td>NaN</td>\n",
       "      <td>NaN</td>\n",
       "      <td>NaN</td>\n",
       "      <td>NaN</td>\n",
       "      <td>NaN</td>\n",
       "      <td>NaN</td>\n",
       "      <td>NaN</td>\n",
       "      <td>NaN</td>\n",
       "    </tr>\n",
       "    <tr>\n",
       "      <th>S224</th>\n",
       "      <td>NaN</td>\n",
       "      <td>NaN</td>\n",
       "      <td>NaN</td>\n",
       "      <td>NaN</td>\n",
       "      <td>NaN</td>\n",
       "      <td>NaN</td>\n",
       "      <td>NaN</td>\n",
       "      <td>NaN</td>\n",
       "      <td>NaN</td>\n",
       "      <td>NaN</td>\n",
       "      <td>...</td>\n",
       "      <td>1.0</td>\n",
       "      <td>1.0</td>\n",
       "      <td>0.0</td>\n",
       "      <td>1.0</td>\n",
       "      <td>1.0</td>\n",
       "      <td>0.0</td>\n",
       "      <td>1.0</td>\n",
       "      <td>0.0</td>\n",
       "      <td>0.0</td>\n",
       "      <td>1.0</td>\n",
       "    </tr>\n",
       "  </tbody>\n",
       "</table>\n",
       "<p>3 rows × 179 columns</p>\n",
       "</div>"
      ],
      "text/plain": [
       "      v2005-hconres95  v2005-hjres52  v2005-hr1268  v2005-hr1268.1  \\\n",
       "S224              1.0            1.0           1.0             1.0   \n",
       "S224              NaN            NaN           NaN             NaN   \n",
       "S224              NaN            NaN           NaN             NaN   \n",
       "\n",
       "      v2005-hr2360  v2005-hr2361  v2005-hr2361.1  v2005-hr2419  \\\n",
       "S224           1.0           0.0             1.0           1.0   \n",
       "S224           NaN           NaN             NaN           NaN   \n",
       "S224           NaN           NaN             NaN           NaN   \n",
       "\n",
       "      v2005-hr2419.1  v2005-hr2528      ...        v2008-hr6304  v2008-hr7081  \\\n",
       "S224             1.0           1.0      ...                 NaN           NaN   \n",
       "S224             NaN           NaN      ...                 NaN           NaN   \n",
       "S224             NaN           NaN      ...                 1.0           1.0   \n",
       "\n",
       "      v2008-s1200  v2008-s1315  v2008-s2248  v2008-s2739  v2008-s3001  \\\n",
       "S224          NaN          NaN          NaN          NaN          NaN   \n",
       "S224          NaN          NaN          NaN          NaN          NaN   \n",
       "S224          0.0          1.0          1.0          0.0          1.0   \n",
       "\n",
       "      v2008-sconres70  v2008-sconres70.1  v2008-sres501  \n",
       "S224              NaN                NaN            NaN  \n",
       "S224              NaN                NaN            NaN  \n",
       "S224              0.0                0.0            1.0  \n",
       "\n",
       "[3 rows x 179 columns]"
      ]
     },
     "execution_count": 25,
     "metadata": {},
     "output_type": "execute_result"
    }
   ],
   "source": [
    "scolumns[1]"
   ]
  },
  {
   "cell_type": "code",
   "execution_count": null,
   "metadata": {
    "collapsed": true
   },
   "outputs": [],
   "source": []
  }
 ],
 "metadata": {
  "kernelspec": {
   "display_name": "Python 2",
   "language": "python",
   "name": "python2"
  },
  "language_info": {
   "codemirror_mode": {
    "name": "ipython",
    "version": 2
   },
   "file_extension": ".py",
   "mimetype": "text/x-python",
   "name": "python",
   "nbconvert_exporter": "python",
   "pygments_lexer": "ipython2",
   "version": "2.7.13"
  }
 },
 "nbformat": 4,
 "nbformat_minor": 2
}
