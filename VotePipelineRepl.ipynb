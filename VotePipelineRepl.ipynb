{
 "cells": [
  {
   "cell_type": "code",
   "execution_count": 1,
   "metadata": {
    "collapsed": true
   },
   "outputs": [],
   "source": [
    "import pandas as pd"
   ]
  },
  {
   "cell_type": "code",
   "execution_count": 2,
   "metadata": {
    "collapsed": true
   },
   "outputs": [],
   "source": [
    "import resource_paths"
   ]
  },
  {
   "cell_type": "code",
   "execution_count": 3,
   "metadata": {
    "collapsed": true
   },
   "outputs": [],
   "source": [
    "svotefp = resource_paths.get_all_dfs(\"svote\")"
   ]
  },
  {
   "cell_type": "code",
   "execution_count": 6,
   "metadata": {},
   "outputs": [],
   "source": [
    "hvotefp = resource_paths.get_all_dfs(\"hvote\")"
   ]
  },
  {
   "cell_type": "code",
   "execution_count": 12,
   "metadata": {},
   "outputs": [],
   "source": [
    "congresses = [str(num) for num in xrange(109,116)]"
   ]
  },
  {
   "cell_type": "code",
   "execution_count": 13,
   "metadata": {},
   "outputs": [
    {
     "data": {
      "text/plain": [
       "['109', '110', '111', '112', '113', '114', '115']"
      ]
     },
     "execution_count": 13,
     "metadata": {},
     "output_type": "execute_result"
    }
   ],
   "source": [
    "congresses"
   ]
  },
  {
   "cell_type": "code",
   "execution_count": 14,
   "metadata": {
    "collapsed": true
   },
   "outputs": [],
   "source": [
    "import re"
   ]
  },
  {
   "cell_type": "code",
   "execution_count": 22,
   "metadata": {
    "collapsed": true
   },
   "outputs": [],
   "source": [
    "links = defaultdict(list)\n",
    "for congress in congresses:\n",
    "    congfind = re.compile(congress)\n",
    "    for path in svotefp:\n",
    "        if congfind.search(path) is not None:\n",
    "            links[congress].append(path)"
   ]
  },
  {
   "cell_type": "code",
   "execution_count": 17,
   "metadata": {
    "collapsed": true
   },
   "outputs": [],
   "source": [
    "from collections import defaultdict"
   ]
  },
  {
   "cell_type": "code",
   "execution_count": 23,
   "metadata": {},
   "outputs": [
    {
     "data": {
      "text/plain": [
       "defaultdict(list,\n",
       "            {'109': ['./data/109-2006/svote-109-2006.pkl',\n",
       "              './data/109-2005/svote-109-2005.pkl'],\n",
       "             '110': ['./data/110-2008/svote-110-2008.pkl'],\n",
       "             '111': ['./data/111-2009/svote-111-2009.pkl',\n",
       "              './data/111-2010/svote-111-2010.pkl'],\n",
       "             '112': ['./data/112-2011/svote-112-2011.pkl',\n",
       "              './data/112-2012/svote-112-2012.pkl'],\n",
       "             '113': ['./data/113-2014/svote-113-2014.pkl'],\n",
       "             '114': ['./data/114-2015/svote-114-2015.pkl',\n",
       "              './data/114-2016/svote-114-2016.pkl'],\n",
       "             '115': ['./data/115-2017/svote-115-2017.pkl']})"
      ]
     },
     "execution_count": 23,
     "metadata": {},
     "output_type": "execute_result"
    }
   ],
   "source": [
    "links"
   ]
  },
  {
   "cell_type": "code",
   "execution_count": null,
   "metadata": {
    "collapsed": true
   },
   "outputs": [],
   "source": []
  }
 ],
 "metadata": {
  "kernelspec": {
   "display_name": "Python 2",
   "language": "python",
   "name": "python2"
  },
  "language_info": {
   "codemirror_mode": {
    "name": "ipython",
    "version": 2
   },
   "file_extension": ".py",
   "mimetype": "text/x-python",
   "name": "python",
   "nbconvert_exporter": "python",
   "pygments_lexer": "ipython2",
   "version": "2.7.13"
  }
 },
 "nbformat": 4,
 "nbformat_minor": 2
}
