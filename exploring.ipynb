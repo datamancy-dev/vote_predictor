{
 "cells": [
  {
   "cell_type": "code",
   "execution_count": 2,
   "metadata": {},
   "outputs": [],
   "source": [
    "import pickle\n",
    "import pandas as pd"
   ]
  },
  {
   "cell_type": "code",
   "execution_count": 11,
   "metadata": {},
   "outputs": [],
   "source": [
    "with open(\"./s_modeldfs.pkl\", \"rb\") as f:\n",
    "    models = pickle.load(f)"
   ]
  },
  {
   "cell_type": "code",
   "execution_count": 17,
   "metadata": {},
   "outputs": [],
   "source": [
    "truthlist = [df.isnull().values.any() for df in models]"
   ]
  },
  {
   "cell_type": "code",
   "execution_count": 12,
   "metadata": {},
   "outputs": [
    {
     "data": {
      "text/plain": [
       "178"
      ]
     },
     "execution_count": 12,
     "metadata": {},
     "output_type": "execute_result"
    }
   ],
   "source": [
    "len(models)"
   ]
  },
  {
   "cell_type": "code",
   "execution_count": 20,
   "metadata": {},
   "outputs": [],
   "source": [
    "nan_index = []\n",
    "for i in xrange(len(truthlist)):\n",
    "    if truthlist[i]:\n",
    "        nan_index.append(i)\n",
    "        "
   ]
  },
  {
   "cell_type": "code",
   "execution_count": 24,
   "metadata": {},
   "outputs": [],
   "source": [
    "nan_models =  [models[i] for i in nan_index]"
   ]
  },
  {
   "cell_type": "code",
   "execution_count": 13,
   "metadata": {},
   "outputs": [],
   "source": [
    "with open(\"./s_lawmakers.pkl\", \"rb\") as f:\n",
    "    slawm = pickle.load(f)"
   ]
  },
  {
   "cell_type": "code",
   "execution_count": 13,
   "metadata": {},
   "outputs": [
    {
     "name": "stdout",
     "output_type": "stream",
     "text": [
      "[ 0.33150734  0.08022311  0.03531764]\n"
     ]
    }
   ],
   "source": [
    "from sklearn import datasets, linear_model\n",
    "from sklearn.model_selection import cross_val_score\n",
    "diabetes = datasets.load_diabetes()\n",
    "X = diabetes.data[:150]\n",
    "y = diabetes.target[:150]\n",
    "lasso = linear_model.Lasso()\n",
    "print(cross_val_score(lasso, X, y))"
   ]
  },
  {
   "cell_type": "code",
   "execution_count": 34,
   "metadata": {},
   "outputs": [
    {
     "data": {
      "text/plain": [
       "[]"
      ]
     },
     "execution_count": 34,
     "metadata": {},
     "output_type": "execute_result"
    }
   ],
   "source": [
    "[ind for ind, df in enumerate(models) if df.isnull().values.any()]"
   ]
  },
  {
   "cell_type": "code",
   "execution_count": 15,
   "metadata": {},
   "outputs": [
    {
     "data": {
      "text/plain": [
       "collections.defaultdict"
      ]
     },
     "execution_count": 15,
     "metadata": {},
     "output_type": "execute_result"
    }
   ],
   "source": [
    "type(slawm)"
   ]
  },
  {
   "cell_type": "code",
   "execution_count": 80,
   "metadata": {},
   "outputs": [],
   "source": [
    "with open(\"./h_meanscores.pkl\", \"rb\") as f:\n",
    "    hmeanscores = pickle.load(f)"
   ]
  },
  {
   "cell_type": "code",
   "execution_count": 82,
   "metadata": {},
   "outputs": [],
   "source": [
    "hmeanscores = [i for i in hmeanscores if i is not None]"
   ]
  },
  {
   "cell_type": "code",
   "execution_count": 83,
   "metadata": {},
   "outputs": [
    {
     "data": {
      "text/plain": [
       "853"
      ]
     },
     "execution_count": 83,
     "metadata": {},
     "output_type": "execute_result"
    }
   ],
   "source": [
    "len(hmeanscores)"
   ]
  },
  {
   "cell_type": "code",
   "execution_count": 39,
   "metadata": {},
   "outputs": [
    {
     "data": {
      "text/plain": [
       "0.78014107030615498"
      ]
     },
     "execution_count": 39,
     "metadata": {},
     "output_type": "execute_result"
    }
   ],
   "source": [
    "y=0.0\n",
    "for x in hmeanscores:\n",
    "   y+=x\n",
    "y/862"
   ]
  },
  {
   "cell_type": "code",
   "execution_count": 84,
   "metadata": {},
   "outputs": [
    {
     "data": {
      "text/plain": [
       "0.53301673450927178"
      ]
     },
     "execution_count": 84,
     "metadata": {},
     "output_type": "execute_result"
    }
   ],
   "source": [
    "min(hmeanscores)"
   ]
  },
  {
   "cell_type": "code",
   "execution_count": 85,
   "metadata": {},
   "outputs": [
    {
     "data": {
      "text/plain": [
       "0.779316066081438"
      ]
     },
     "execution_count": 85,
     "metadata": {},
     "output_type": "execute_result"
    }
   ],
   "source": [
    "avg(hmeanscores)"
   ]
  },
  {
   "cell_type": "code",
   "execution_count": 42,
   "metadata": {},
   "outputs": [
    {
     "data": {
      "text/plain": [
       "0.76"
      ]
     },
     "execution_count": 42,
     "metadata": {},
     "output_type": "execute_result"
    }
   ],
   "source": [
    "(.99+.53)/2"
   ]
  },
  {
   "cell_type": "code",
   "execution_count": 8,
   "metadata": {},
   "outputs": [],
   "source": [
    "with open(\"./s_meanscores.pkl\", \"rb\") as f:\n",
    "    smeanscores = pickle.load(f)"
   ]
  },
  {
   "cell_type": "code",
   "execution_count": 72,
   "metadata": {},
   "outputs": [],
   "source": [
    "nsmeanscores = [i for i in smeanscores if i is not None]"
   ]
  },
  {
   "cell_type": "code",
   "execution_count": 75,
   "metadata": {},
   "outputs": [
    {
     "data": {
      "text/plain": [
       "0.80065534726736265"
      ]
     },
     "execution_count": 75,
     "metadata": {},
     "output_type": "execute_result"
    }
   ],
   "source": [
    "avg(nsmeanscores)"
   ]
  },
  {
   "cell_type": "code",
   "execution_count": 17,
   "metadata": {},
   "outputs": [],
   "source": [
    "overnine = [i for i, x in enumerate(smeanscores) if x > .89]"
   ]
  },
  {
   "cell_type": "code",
   "execution_count": 18,
   "metadata": {},
   "outputs": [],
   "source": [
    "modelsoverninety=[models[i] for i in overnine]"
   ]
  },
  {
   "cell_type": "code",
   "execution_count": 29,
   "metadata": {},
   "outputs": [],
   "source": [
    "modeloverninetyrowcount = [mod.shape[0] for mod in modelsoverninety]"
   ]
  },
  {
   "cell_type": "code",
   "execution_count": 30,
   "metadata": {
    "collapsed": true
   },
   "outputs": [
    {
     "data": {
      "text/plain": [
       "[73,\n",
       " 73,\n",
       " 54,\n",
       " 79,\n",
       " 92,\n",
       " 73,\n",
       " 73,\n",
       " 73,\n",
       " 73,\n",
       " 73,\n",
       " 54,\n",
       " 54,\n",
       " 149,\n",
       " 79,\n",
       " 128,\n",
       " 128,\n",
       " 79,\n",
       " 204,\n",
       " 79,\n",
       " 92,\n",
       " 54,\n",
       " 185]"
      ]
     },
     "execution_count": 30,
     "metadata": {},
     "output_type": "execute_result"
    }
   ],
   "source": [
    "modeloverninetyrowcount"
   ]
  },
  {
   "cell_type": "code",
   "execution_count": 52,
   "metadata": {},
   "outputs": [],
   "source": [
    "def listswiththreshold(comparison, meanlist, models):\n",
    "    withresh = [i for i, x in enumerate(meanlist) if comparison(x)]\n",
    "    modelwithresh = [models[i] for i in withresh]\n",
    "    modelwithreshrowc = [mod.shape[0] for mod in modelwithresh]\n",
    "    \n",
    "    return withresh, modelwithresh, modelwithreshrowc\n",
    "    "
   ]
  },
  {
   "cell_type": "code",
   "execution_count": 53,
   "metadata": {},
   "outputs": [],
   "source": [
    "overinds, overninety, overninetyroc = listswiththreshold(lambda x: x > .89, smeanscores, models)"
   ]
  },
  {
   "cell_type": "code",
   "execution_count": 62,
   "metadata": {},
   "outputs": [],
   "source": [
    "underinds, undersixty, undersixtyroc = listswiththreshold(lambda x: x < .7, smeanscores, models)"
   ]
  },
  {
   "cell_type": "code",
   "execution_count": 63,
   "metadata": {
    "collapsed": true
   },
   "outputs": [
    {
     "data": {
      "text/plain": [
       "[128,\n",
       " 198,\n",
       " 25,\n",
       " 25,\n",
       " 185,\n",
       " 119,\n",
       " 185,\n",
       " 204,\n",
       " 223,\n",
       " 223,\n",
       " 223,\n",
       " 81,\n",
       " 149,\n",
       " 257,\n",
       " 128,\n",
       " 277,\n",
       " 79,\n",
       " 252,\n",
       " 204,\n",
       " 277,\n",
       " 128,\n",
       " 277,\n",
       " 92,\n",
       " 149,\n",
       " 101,\n",
       " 145]"
      ]
     },
     "execution_count": 63,
     "metadata": {},
     "output_type": "execute_result"
    }
   ],
   "source": [
    "undersixtyroc"
   ]
  },
  {
   "cell_type": "code",
   "execution_count": 102,
   "metadata": {},
   "outputs": [],
   "source": [
    "betinds, bet, betroc = listswiththreshold(lambda x : x > .76 and x < .8, smeanscores, models)"
   ]
  },
  {
   "cell_type": "code",
   "execution_count": 65,
   "metadata": {
    "collapsed": true
   },
   "outputs": [
    {
     "data": {
      "text/plain": [
       "[277,\n",
       " 252,\n",
       " 204,\n",
       " 125,\n",
       " 198,\n",
       " 198,\n",
       " 25,\n",
       " 73,\n",
       " 277,\n",
       " 277,\n",
       " 166,\n",
       " 124,\n",
       " 149,\n",
       " 128,\n",
       " 81,\n",
       " 277,\n",
       " 223,\n",
       " 247,\n",
       " 223,\n",
       " 277,\n",
       " 277,\n",
       " 277,\n",
       " 92,\n",
       " 92,\n",
       " 204,\n",
       " 277,\n",
       " 54,\n",
       " 223,\n",
       " 223,\n",
       " 223,\n",
       " 277,\n",
       " 54,\n",
       " 277,\n",
       " 185,\n",
       " 124,\n",
       " 185,\n",
       " 124,\n",
       " 149,\n",
       " 149,\n",
       " 149,\n",
       " 277,\n",
       " 182,\n",
       " 277,\n",
       " 277,\n",
       " 277,\n",
       " 54,\n",
       " 277,\n",
       " 54,\n",
       " 79,\n",
       " 128,\n",
       " 185,\n",
       " 277,\n",
       " 277,\n",
       " 92,\n",
       " 92,\n",
       " 149,\n",
       " 277]"
      ]
     },
     "execution_count": 65,
     "metadata": {},
     "output_type": "execute_result"
    }
   ],
   "source": [
    "betroc"
   ]
  },
  {
   "cell_type": "code",
   "execution_count": 66,
   "metadata": {},
   "outputs": [],
   "source": [
    "def avg(l):\n",
    "    y = 0.0\n",
    "    for x in l:\n",
    "        y += x\n",
    "    return y/float(len(l))"
   ]
  },
  {
   "cell_type": "code",
   "execution_count": 103,
   "metadata": {},
   "outputs": [
    {
     "data": {
      "text/plain": [
       "194.58333333333334"
      ]
     },
     "execution_count": 103,
     "metadata": {},
     "output_type": "execute_result"
    }
   ],
   "source": [
    "avg(betroc)"
   ]
  },
  {
   "cell_type": "code",
   "execution_count": 68,
   "metadata": {},
   "outputs": [
    {
     "data": {
      "text/plain": [
       "166.69230769230768"
      ]
     },
     "execution_count": 68,
     "metadata": {},
     "output_type": "execute_result"
    }
   ],
   "source": [
    "avg(undersixtyroc)"
   ]
  },
  {
   "cell_type": "code",
   "execution_count": 69,
   "metadata": {},
   "outputs": [
    {
     "data": {
      "text/plain": [
       "91.86363636363636"
      ]
     },
     "execution_count": 69,
     "metadata": {},
     "output_type": "execute_result"
    }
   ],
   "source": [
    "avg(overninetyroc)"
   ]
  },
  {
   "cell_type": "code",
   "execution_count": 77,
   "metadata": {},
   "outputs": [
    {
     "name": "stdout",
     "output_type": "stream",
     "text": [
      "1to3cvect.pkl                     h_modeldfs.pkl\r\n",
      "1to3lda.pkl                       hvotes_p_congress.pkl\r\n",
      "2n3ngramsdtmat.pkl                hvotes_per_congress.pkl\r\n",
      "2n3ngrams.pkl                     Justshowingsomestuff.ipynb\r\n",
      "allbills.pkl                      labeled_bill_request.py\r\n",
      "allhbill.pkl                      labeled_bill_request.pyc\r\n",
      "allsbill.pkl                      large_topics_lda_out.pkl\r\n",
      "all_sbills.pkl                    large_topics_lda.pkl\r\n",
      "BillsNTopicsDF.ipynb              lda_out.pkl\r\n",
      "billsntopics.pkl                  lda.pkl\r\n",
      "build_models.py                   lda_training.py\r\n",
      "corpus_feature_engineering.ipynb  list-of-topics.pkl\r\n",
      "corpus.py                         majority.csv\r\n",
      "Corpus reducing.ipynb             make_models.py\r\n",
      "CorpusTermPruning.ipynb           make_topics_df.py\r\n",
      "CorpusTopicPruning.ipynb          make_vote_df.py\r\n",
      "countandpack.py                   README.md\r\n",
      "countvectorizer.pkl               resource_paths.py\r\n",
      "cvect2n3.pkl                      resource_paths.pyc\r\n",
      "\u001b[0m\u001b[01;34mdata\u001b[0m/                             scraper.py\r\n",
      "debug.py                          scraper.pyc\r\n",
      "debug.pyc                         scraping_script.pyc\r\n",
      "display_top_words.py              s_lawmakers.pkl\r\n",
      "doc_term_mat.pkl                  s_lawmakerstomodels.pkl\r\n",
      "exploring.ipynb                   s_meanscores.pkl\r\n",
      "feat_names1.csv                   s_modeldfs.pkl\r\n",
      "feat_names2.csv                   somemoretrimming.ipynb\r\n",
      "feat_names3.csv                   svotes_p_congress.pkl\r\n",
      "feat_names.csv                    svotes_per_congress.pkl\r\n",
      "finaldtmat.pkl                    test.p\r\n",
      "finalmodeldf.ipynb                todo.txt\r\n",
      "finaltest.ipynb                   topicsdf.pkl\r\n",
      "finaltopicsdf.pkl                 topicsV1.md\r\n",
      "gdoc_term_mat.pkl                 topictrimmedbills.pkl\r\n",
      "gfeat_names1.csv                  train_lda.py\r\n",
      "gfeat_names2.csv                  trash.py\r\n",
      "gfeat_names3.csv                  VotePipelineRepl.ipynb\r\n",
      "h_lawmakers.pkl                   vote_request.py\r\n",
      "h_lawmakerstomodels.pkl           vote_request.pyc\r\n",
      "h_meanscores.pkl\r\n"
     ]
    }
   ],
   "source": [
    "ls "
   ]
  },
  {
   "cell_type": "code",
   "execution_count": 18,
   "metadata": {},
   "outputs": [],
   "source": [
    "with open(\"./s_lawmakerstomodels.pkl\", \"rb\") as f:\n",
    "    lawmtomod = pickle.load(f)"
   ]
  },
  {
   "cell_type": "code",
   "execution_count": 19,
   "metadata": {},
   "outputs": [
    {
     "data": {
      "text/plain": [
       "178"
      ]
     },
     "execution_count": 19,
     "metadata": {},
     "output_type": "execute_result"
    }
   ],
   "source": [
    "len(lawmtomod)"
   ]
  },
  {
   "cell_type": "code",
   "execution_count": 7,
   "metadata": {},
   "outputs": [
    {
     "data": {
      "text/plain": [
       "178"
      ]
     },
     "execution_count": 7,
     "metadata": {},
     "output_type": "execute_result"
    }
   ],
   "source": [
    "len(models)"
   ]
  },
  {
   "cell_type": "code",
   "execution_count": 9,
   "metadata": {},
   "outputs": [
    {
     "data": {
      "text/plain": [
       "178"
      ]
     },
     "execution_count": 9,
     "metadata": {},
     "output_type": "execute_result"
    }
   ],
   "source": [
    "len(smeanscores)"
   ]
  },
  {
   "cell_type": "code",
   "execution_count": 17,
   "metadata": {},
   "outputs": [
    {
     "data": {
      "text/plain": [
       "[0.77295055821371617,\n",
       " 0.64061538461538459,\n",
       " 0.83400673400673409,\n",
       " 0.75800000000000001,\n",
       " 0.84388603988603994,\n",
       " 0.79902439024390248,\n",
       " 0.87223076923076914,\n",
       " 0.73710256410256403,\n",
       " 0.77243589743589747,\n",
       " 0.67552631578947364,\n",
       " 0.83333333333333326,\n",
       " 0.88825641025641011,\n",
       " 0.79789473684210521,\n",
       " 0.82328330206378975,\n",
       " 0.70999999999999996,\n",
       " 0.84000000000000008,\n",
       " 0.95999999999999996,\n",
       " 0.80000000000000004,\n",
       " 0.78142857142857136,\n",
       " 0.85011904761904766,\n",
       " 0.88857142857142846,\n",
       " 0.94666666666666666,\n",
       " 0.87333333333333341,\n",
       " 0.86649350649350654,\n",
       " 0.77977633477633479,\n",
       " 0.7255483405483405,\n",
       " 0.8613725490196078,\n",
       " 0.84000000000000008,\n",
       " None,\n",
       " 0.80706327985739745,\n",
       " 0.76470588235294112,\n",
       " 0.85926887926887918,\n",
       " 0.83255469039673713,\n",
       " 0.82424242424242422,\n",
       " 0.71046153846153848,\n",
       " 0.72528735632183905,\n",
       " None,\n",
       " 0.80000000000000004,\n",
       " 0.72646153846153838,\n",
       " 0.61609767662399251,\n",
       " 0.74039215686274518,\n",
       " 0.87333333333333341,\n",
       " 0.77977873977873979,\n",
       " 0.6660869565217391,\n",
       " 0.84334597755650376,\n",
       " 0.92727272727272736,\n",
       " 0.94999999999999996,\n",
       " 0.84963235294117645,\n",
       " 0.79838383838383842,\n",
       " 0.82531400966183577,\n",
       " 0.78138775510204073,\n",
       " 0.77136583223539745,\n",
       " 0.83380952380952389,\n",
       " 0.76178628389154712,\n",
       " 0.54641220167535964,\n",
       " 0.75451355661881991,\n",
       " 0.73295334295334291,\n",
       " 0.60317073170731716,\n",
       " 0.82800137598899204,\n",
       " 0.83567251461988301,\n",
       " 0.79394564843481241,\n",
       " 0.80526315789473679,\n",
       " 0.7929824561403509,\n",
       " 0.87953216374269005,\n",
       " 0.89291365669074652,\n",
       " 0.80409356725146197,\n",
       " 0.78439024390243905,\n",
       " 0.79789473684210521,\n",
       " 0.82521963824289402,\n",
       " 0.82030769230769229,\n",
       " 0.78333333333333321,\n",
       " 0.81633074935400507,\n",
       " 0.64585858585858591,\n",
       " 0.68196382428940561,\n",
       " 0.77141414141414133,\n",
       " 0.88547008547008554,\n",
       " 0.78040404040404032,\n",
       " 0.67285902503293804,\n",
       " 0.79349582784365391,\n",
       " 0.87794871794871798,\n",
       " 0.87794871794871798,\n",
       " 0.94666666666666666,\n",
       " 0.94666666666666666,\n",
       " 0.91880952380952385,\n",
       " 0.83678571428571424,\n",
       " 0.93142857142857149,\n",
       " 0.97416666666666674,\n",
       " 0.81623667010663914,\n",
       " 0.80461538461538462,\n",
       " 0.81961038961038957,\n",
       " 0.94696969696969691,\n",
       " 0.79425837320574166,\n",
       " 0.76000000000000001,\n",
       " 0.78344155844155838,\n",
       " 0.80461538461538462,\n",
       " 0.76246246246246252,\n",
       " 0.82721669037458523,\n",
       " 0.96666666666666656,\n",
       " 0.66789215686274506,\n",
       " 0.84941176470588231,\n",
       " 0.6906859473489062,\n",
       " 0.82565813867259918,\n",
       " 0.82181128496917977,\n",
       " 0.87333333333333341,\n",
       " 0.77451282051282055,\n",
       " 0.77831515726252565,\n",
       " 0.87948090470893592,\n",
       " 0.83218390804597708,\n",
       " 0.79051282051282057,\n",
       " 0.81942157953281425,\n",
       " 0.70589543937708565,\n",
       " 0.76505747126436785,\n",
       " 0.91991101223581762,\n",
       " 0.71113088616981834,\n",
       " 0.73652717652717659,\n",
       " 0.80169667867146865,\n",
       " 0.77501501501501502,\n",
       " 0.63041065482796887,\n",
       " 0.77623376623376628,\n",
       " 0.96323529411764708,\n",
       " 0.60064102564102551,\n",
       " 0.85278632478632477,\n",
       " 0.70385762385762385,\n",
       " 0.91439316239316248,\n",
       " 0.83243243243243248,\n",
       " 0.92184615384615376,\n",
       " 0.79789473684210521,\n",
       " 0.8089024390243903,\n",
       " 0.87743902439024379,\n",
       " 0.74181818181818182,\n",
       " 0.87333333333333341,\n",
       " 0.83794057215109841,\n",
       " 0.79435064935064936,\n",
       " 0.88130235498656551,\n",
       " 0.66071428571428559,\n",
       " 0.91294117647058837,\n",
       " 0.82970308123249281,\n",
       " 0.79727272727272724,\n",
       " 0.88825641025641011,\n",
       " 0.82333333333333347,\n",
       " 0.58348039215686276,\n",
       " 0.67866666666666675,\n",
       " 0.82721669037458523,\n",
       " 0.90195121951219515,\n",
       " 0.76000000000000001,\n",
       " 0.88960784313725494,\n",
       " 0.68626596980255505,\n",
       " 0.89980392156862743,\n",
       " 0.88666666666666671,\n",
       " 0.69307814992025518,\n",
       " 0.67238746438746444,\n",
       " 0.78153846153846163,\n",
       " 0.65385762385762392,\n",
       " 0.85892672858617125,\n",
       " 0.7566145092460882,\n",
       " 0.8412145262145263,\n",
       " 0.8520188204398732,\n",
       " 0.74727272727272731,\n",
       " 0.88243902439024391,\n",
       " 0.82309409888357266,\n",
       " 0.77971291866028714,\n",
       " 0.85789473684210515,\n",
       " 0.76140350877192975,\n",
       " 0.68379772961816299,\n",
       " 0.85827313381492942,\n",
       " 0.89122807017543848,\n",
       " 0.77134502923976611,\n",
       " 0.7115906562847607,\n",
       " 0.6705228031145718,\n",
       " 0.81948051948051948,\n",
       " 0.80222096743835869,\n",
       " 0.74730639730639736,\n",
       " 0.94696969696969691,\n",
       " 0.46466165413533833,\n",
       " 0.89201043148411574,\n",
       " 0.83030303030303032,\n",
       " 0.60743842364532019,\n",
       " 0.83878787878787886]"
      ]
     },
     "execution_count": 17,
     "metadata": {},
     "output_type": "execute_result"
    }
   ],
   "source": [
    "smeanscores"
   ]
  },
  {
   "cell_type": "code",
   "execution_count": 24,
   "metadata": {},
   "outputs": [],
   "source": [
    "tdf = pd.DataFrame({\"one\":[.5, .2], \"response\" : [0, 1]}, index=[\"a\", \"b\"])"
   ]
  },
  {
   "cell_type": "code",
   "execution_count": 34,
   "metadata": {},
   "outputs": [],
   "source": [
    "with open(\"./svotes_p_congress.pkl\",\"rb\") as f:\n",
    "    svotpc =  pickle.load(f)"
   ]
  },
  {
   "cell_type": "code",
   "execution_count": 31,
   "metadata": {},
   "outputs": [
    {
     "data": {
      "text/plain": [
       "['one', 'response']"
      ]
     },
     "execution_count": 31,
     "metadata": {},
     "output_type": "execute_result"
    }
   ],
   "source": [
    "tdf.columns.values.tolist()"
   ]
  },
  {
   "cell_type": "code",
   "execution_count": 32,
   "metadata": {},
   "outputs": [],
   "source": [
    "def score_topics(df):\n",
    "    keys = df.columns.values.tolist()\n",
    "    del keys[-1]\n",
    "    topicscore = [(df[key] * df[\"response\"]).sum() for key in keys]\n",
    "    \n",
    "    return topicscore    "
   ]
  },
  {
   "cell_type": "code",
   "execution_count": 41,
   "metadata": {},
   "outputs": [
    {
     "data": {
      "text/html": [
       "<div>\n",
       "<style scoped>\n",
       "    .dataframe tbody tr th:only-of-type {\n",
       "        vertical-align: middle;\n",
       "    }\n",
       "\n",
       "    .dataframe tbody tr th {\n",
       "        vertical-align: top;\n",
       "    }\n",
       "\n",
       "    .dataframe thead th {\n",
       "        text-align: right;\n",
       "    }\n",
       "</style>\n",
       "<table border=\"1\" class=\"dataframe\">\n",
       "  <thead>\n",
       "    <tr style=\"text-align: right;\">\n",
       "      <th></th>\n",
       "      <th>2017s-display_name</th>\n",
       "      <th>2017s-party</th>\n",
       "      <th>2017s-state</th>\n",
       "      <th>2017s-hjres43</th>\n",
       "      <th>2017s-s89</th>\n",
       "      <th>2017s-hjres66</th>\n",
       "      <th>2017s-hr244</th>\n",
       "      <th>2017s-sres176</th>\n",
       "      <th>2017s-s722</th>\n",
       "      <th>2017s-hr3364</th>\n",
       "      <th>...</th>\n",
       "      <th>2017s-hjres37</th>\n",
       "      <th>2017s-hjres44</th>\n",
       "      <th>2017s-hjres58</th>\n",
       "      <th>2017s-hjres57</th>\n",
       "      <th>2017s-hjres42</th>\n",
       "      <th>2017s-hjres69</th>\n",
       "      <th>2017s-hjres83</th>\n",
       "      <th>2017s-sjres34</th>\n",
       "      <th>2017s-hjres67</th>\n",
       "      <th>congress</th>\n",
       "    </tr>\n",
       "  </thead>\n",
       "  <tbody>\n",
       "    <tr>\n",
       "      <th>S229</th>\n",
       "      <td>Murray (D-WA)</td>\n",
       "      <td>D</td>\n",
       "      <td>WA</td>\n",
       "      <td>0.0</td>\n",
       "      <td>0.0</td>\n",
       "      <td>0.0</td>\n",
       "      <td>1.0</td>\n",
       "      <td>1.0</td>\n",
       "      <td>1.0</td>\n",
       "      <td>1.0</td>\n",
       "      <td>...</td>\n",
       "      <td>0.0</td>\n",
       "      <td>0.0</td>\n",
       "      <td>0.0</td>\n",
       "      <td>0.0</td>\n",
       "      <td>0.0</td>\n",
       "      <td>0.0</td>\n",
       "      <td>0.0</td>\n",
       "      <td>0.0</td>\n",
       "      <td>0.0</td>\n",
       "      <td>115</td>\n",
       "    </tr>\n",
       "    <tr>\n",
       "      <th>S275</th>\n",
       "      <td>Cantwell (D-WA)</td>\n",
       "      <td>D</td>\n",
       "      <td>WA</td>\n",
       "      <td>0.0</td>\n",
       "      <td>0.0</td>\n",
       "      <td>0.0</td>\n",
       "      <td>1.0</td>\n",
       "      <td>1.0</td>\n",
       "      <td>1.0</td>\n",
       "      <td>1.0</td>\n",
       "      <td>...</td>\n",
       "      <td>0.0</td>\n",
       "      <td>0.0</td>\n",
       "      <td>0.0</td>\n",
       "      <td>0.0</td>\n",
       "      <td>0.0</td>\n",
       "      <td>0.0</td>\n",
       "      <td>0.0</td>\n",
       "      <td>0.0</td>\n",
       "      <td>0.0</td>\n",
       "      <td>115</td>\n",
       "    </tr>\n",
       "  </tbody>\n",
       "</table>\n",
       "<p>2 rows × 30 columns</p>\n",
       "</div>"
      ],
      "text/plain": [
       "     2017s-display_name 2017s-party 2017s-state  2017s-hjres43  2017s-s89  \\\n",
       "S229      Murray (D-WA)           D          WA            0.0        0.0   \n",
       "S275    Cantwell (D-WA)           D          WA            0.0        0.0   \n",
       "\n",
       "      2017s-hjres66  2017s-hr244  2017s-sres176  2017s-s722  2017s-hr3364  \\\n",
       "S229            0.0          1.0            1.0         1.0           1.0   \n",
       "S275            0.0          1.0            1.0         1.0           1.0   \n",
       "\n",
       "        ...     2017s-hjres37  2017s-hjres44  2017s-hjres58  2017s-hjres57  \\\n",
       "S229    ...               0.0            0.0            0.0            0.0   \n",
       "S275    ...               0.0            0.0            0.0            0.0   \n",
       "\n",
       "      2017s-hjres42  2017s-hjres69  2017s-hjres83  2017s-sjres34  \\\n",
       "S229            0.0            0.0            0.0            0.0   \n",
       "S275            0.0            0.0            0.0            0.0   \n",
       "\n",
       "      2017s-hjres67  congress  \n",
       "S229            0.0       115  \n",
       "S275            0.0       115  \n",
       "\n",
       "[2 rows x 30 columns]"
      ]
     },
     "execution_count": 41,
     "metadata": {},
     "output_type": "execute_result"
    }
   ],
   "source": [
    "svotpc[0][svotpc[0][\"2017s-state\"] == \"WA\"]"
   ]
  },
  {
   "cell_type": "code",
   "execution_count": 42,
   "metadata": {},
   "outputs": [],
   "source": [
    "ind = [i for i, x in enumerate(lawmtomod) if x == \"S229\" or x == \"S275\"]"
   ]
  },
  {
   "cell_type": "code",
   "execution_count": 43,
   "metadata": {},
   "outputs": [
    {
     "data": {
      "text/plain": [
       "[0, 91]"
      ]
     },
     "execution_count": 43,
     "metadata": {},
     "output_type": "execute_result"
    }
   ],
   "source": [
    "ind"
   ]
  },
  {
   "cell_type": "code",
   "execution_count": 44,
   "metadata": {},
   "outputs": [
    {
     "data": {
      "text/plain": [
       "u'S229'"
      ]
     },
     "execution_count": 44,
     "metadata": {},
     "output_type": "execute_result"
    }
   ],
   "source": [
    "lawmtomod[0]"
   ]
  },
  {
   "cell_type": "code",
   "execution_count": 45,
   "metadata": {},
   "outputs": [],
   "source": [
    "topicsmurray = score_topics(models[0])"
   ]
  },
  {
   "cell_type": "code",
   "execution_count": 46,
   "metadata": {},
   "outputs": [],
   "source": [
    "topicscantwell = score_topics(models[91])"
   ]
  },
  {
   "cell_type": "code",
   "execution_count": 51,
   "metadata": {},
   "outputs": [],
   "source": [
    "import numpy as np"
   ]
  },
  {
   "cell_type": "code",
   "execution_count": 52,
   "metadata": {},
   "outputs": [],
   "source": [
    "topicsmurray = np.array(topicsmurray)"
   ]
  },
  {
   "cell_type": "code",
   "execution_count": 53,
   "metadata": {},
   "outputs": [],
   "source": [
    "topicscantwell = np.array(topicscantwell)"
   ]
  },
  {
   "cell_type": "code",
   "execution_count": 62,
   "metadata": {},
   "outputs": [],
   "source": [
    "srtmurray = np.argsort(topicsmurray)"
   ]
  },
  {
   "cell_type": "code",
   "execution_count": 63,
   "metadata": {},
   "outputs": [],
   "source": [
    "srtcantwell = np.argsort(topicscantwell)"
   ]
  },
  {
   "cell_type": "code",
   "execution_count": 64,
   "metadata": {},
   "outputs": [
    {
     "data": {
      "text/plain": [
       "12.602557026905252"
      ]
     },
     "execution_count": 64,
     "metadata": {},
     "output_type": "execute_result"
    }
   ],
   "source": [
    "topicscantwell[srtcantwell[-1]]"
   ]
  },
  {
   "cell_type": "code",
   "execution_count": 65,
   "metadata": {},
   "outputs": [],
   "source": [
    "topfivemurray = srtmurray[-5:]"
   ]
  },
  {
   "cell_type": "code",
   "execution_count": 68,
   "metadata": {},
   "outputs": [],
   "source": [
    "topfivecantwell = srtcantwell[-5:]"
   ]
  },
  {
   "cell_type": "code",
   "execution_count": 72,
   "metadata": {},
   "outputs": [
    {
     "data": {
      "text/plain": [
       "array([42, 17, 15, 35, 53])"
      ]
     },
     "execution_count": 72,
     "metadata": {},
     "output_type": "execute_result"
    }
   ],
   "source": [
    "topfivemurray"
   ]
  },
  {
   "cell_type": "code",
   "execution_count": 73,
   "metadata": {},
   "outputs": [
    {
     "data": {
      "text/plain": [
       "array([42, 15, 12, 35, 53])"
      ]
     },
     "execution_count": 73,
     "metadata": {},
     "output_type": "execute_result"
    }
   ],
   "source": [
    "topfivecantwell"
   ]
  },
  {
   "cell_type": "code",
   "execution_count": 81,
   "metadata": {},
   "outputs": [],
   "source": [
    "botfivemurray = srtmurray[11:16]\n",
    "botfivecantwell  = srtcantwell[11:16]"
   ]
  },
  {
   "cell_type": "code",
   "execution_count": 82,
   "metadata": {},
   "outputs": [
    {
     "data": {
      "text/plain": [
       "array([50, 37, 10,  1,  8])"
      ]
     },
     "execution_count": 82,
     "metadata": {},
     "output_type": "execute_result"
    }
   ],
   "source": [
    "botfivecantwell"
   ]
  },
  {
   "cell_type": "code",
   "execution_count": 83,
   "metadata": {},
   "outputs": [
    {
     "data": {
      "text/plain": [
       "array([ 1, 50, 32, 30, 37])"
      ]
     },
     "execution_count": 83,
     "metadata": {},
     "output_type": "execute_result"
    }
   ],
   "source": [
    "botfivemurray"
   ]
  },
  {
   "cell_type": "code",
   "execution_count": null,
   "metadata": {},
   "outputs": [],
   "source": []
  }
 ],
 "metadata": {
  "kernelspec": {
   "display_name": "Python 2",
   "language": "python",
   "name": "python2"
  },
  "language_info": {
   "codemirror_mode": {
    "name": "ipython",
    "version": 2
   },
   "file_extension": ".py",
   "mimetype": "text/x-python",
   "name": "python",
   "nbconvert_exporter": "python",
   "pygments_lexer": "ipython2",
   "version": "2.7.14"
  }
 },
 "nbformat": 4,
 "nbformat_minor": 2
}
