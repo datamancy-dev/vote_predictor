{
 "cells": [
  {
   "cell_type": "code",
   "execution_count": 1,
   "metadata": {},
   "outputs": [],
   "source": [
    "import pickle\n",
    "import pandas as pd"
   ]
  },
  {
   "cell_type": "code",
   "execution_count": 11,
   "metadata": {},
   "outputs": [],
   "source": [
    "with open(\"./s_lawmakers.pkl\", \"rb\") as f:\n",
    "    s_lawm =  pickle.load(f)"
   ]
  },
  {
   "cell_type": "code",
   "execution_count": 12,
   "metadata": {},
   "outputs": [],
   "source": [
    "with open(\"./h_lawmakers.pkl\", \"rb\") as f:\n",
    "    h_lawm =  pickle.load(f)"
   ]
  },
  {
   "cell_type": "code",
   "execution_count": 14,
   "metadata": {},
   "outputs": [
    {
     "data": {
      "text/plain": [
       "183"
      ]
     },
     "execution_count": 14,
     "metadata": {},
     "output_type": "execute_result"
    }
   ],
   "source": [
    "len(s_lawm)"
   ]
  },
  {
   "cell_type": "code",
   "execution_count": 15,
   "metadata": {},
   "outputs": [
    {
     "data": {
      "text/plain": [
       "865"
      ]
     },
     "execution_count": 15,
     "metadata": {},
     "output_type": "execute_result"
    }
   ],
   "source": [
    "len(h_lawm)"
   ]
  },
  {
   "cell_type": "code",
   "execution_count": 23,
   "metadata": {},
   "outputs": [],
   "source": [
    "with open(\"./finaltopicsdf.pkl\", \"rb\") as f:\n",
    "    topicsdf =  pickle.load(f)"
   ]
  },
  {
   "cell_type": "code",
   "execution_count": 26,
   "metadata": {},
   "outputs": [
    {
     "data": {
      "text/plain": [
       "2006s-hr3199       s\n",
       "2006s-hr4          s\n",
       "2006s-hr4297       s\n",
       "2006s-hr4659       s\n",
       "2006s-hr4939       s\n",
       "2006s-hr4954       s\n",
       "2006s-hr5441       s\n",
       "2006s-hr5631       s\n",
       "2006s-hr5682       s\n",
       "2006s-hr5684       s\n",
       "2006s-hr6061       s\n",
       "2006s-hr6111       s\n",
       "2006s-hr810        s\n",
       "2006s-hr9          s\n",
       "2006s-s2271        s\n",
       "2006s-s2349        s\n",
       "2006s-s2611        s\n",
       "2006s-s2754        s\n",
       "2006s-s2766        s\n",
       "2006s-s3569        s\n",
       "2006s-s3711        s\n",
       "2006s-s3930        s\n",
       "2006s-s403         s\n",
       "2006s-sconres83    s\n",
       "2014s-hjres106     s\n",
       "2014s-hjres124     s\n",
       "2014s-hr2642       s\n",
       "2014s-hr3080       s\n",
       "2014s-hr3230       s\n",
       "2014s-hr3370       s\n",
       "                  ..\n",
       "2012h-hres631      h\n",
       "2012h-hres643      h\n",
       "2012h-hres648      h\n",
       "2012h-hres656      h\n",
       "2012h-hres661      h\n",
       "2012h-hres667      h\n",
       "2012h-hres679      h\n",
       "2012h-hres688      h\n",
       "2012h-hres691      h\n",
       "2012h-hres697      h\n",
       "2012h-hres706      h\n",
       "2012h-hres708      h\n",
       "2012h-hres711      h\n",
       "2012h-hres717      h\n",
       "2012h-hres724      h\n",
       "2012h-hres726      h\n",
       "2012h-hres738      h\n",
       "2012h-hres747      h\n",
       "2012h-hres752      h\n",
       "2012h-hres773      h\n",
       "2012h-hres778      h\n",
       "2012h-hres779      h\n",
       "2012h-hres788      h\n",
       "2012h-hres808      h\n",
       "2012h-hres821      h\n",
       "2012h-hres827      h\n",
       "2012h-hres840      h\n",
       "2012h-hres841      h\n",
       "2012h-hres844      h\n",
       "2012h-sconres56    h\n",
       "Name: house, Length: 1663, dtype: object"
      ]
     },
     "execution_count": 26,
     "metadata": {},
     "output_type": "execute_result"
    }
   ],
   "source": []
  },
  {
   "cell_type": "code",
   "execution_count": null,
   "metadata": {},
   "outputs": [],
   "source": []
  }
 ],
 "metadata": {
  "kernelspec": {
   "display_name": "Python 2",
   "language": "python",
   "name": "python2"
  },
  "language_info": {
   "codemirror_mode": {
    "name": "ipython",
    "version": 2
   },
   "file_extension": ".py",
   "mimetype": "text/x-python",
   "name": "python",
   "nbconvert_exporter": "python",
   "pygments_lexer": "ipython2",
   "version": "2.7.14"
  }
 },
 "nbformat": 4,
 "nbformat_minor": 2
}
